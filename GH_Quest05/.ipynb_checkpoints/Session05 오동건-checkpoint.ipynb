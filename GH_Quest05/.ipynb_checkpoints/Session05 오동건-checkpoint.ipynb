{
 "cells": [
  {
   "cell_type": "code",
   "execution_count": 1,
   "metadata": {},
   "outputs": [],
   "source": [
    "import pandas as pd\n",
    "import numpy as np\n",
    "from os import listdir \n",
    "import matplotlib.pyplot as plt\n",
    "import sklearn\n",
    "from sklearn.neighbors import KNeighborsClassifier\n",
    "from sklearn.model_selection import train_test_split\n"
   ]
  },
  {
   "cell_type": "code",
   "execution_count": 2,
   "metadata": {},
   "outputs": [],
   "source": [
    "# 1. 파일명을 인자로 받아서 (1, 1024) 백터를 반환하는 함수를 정의하세요.\n",
    "train_txts = listdir('trainingDigits') # 폴더에서 파일이름들을 불러온다. \n",
    "test_txts = listdir('testDigits') # 폴더에서 파일이름들을 불러온다. \n",
    "\n",
    "file = pd.read_csv(\"trainingDigits\\\\\"+train_txts[0], header = None) # 파일을 불러온다. \n",
    "\n",
    "def ftv(file):\n",
    "    file = file.T # 인덱싱을 위해 transpoes 시킨다.  \n",
    "    vector = []\n",
    "    for i in file:\n",
    "        for j in file[i]:\n",
    "            vector.extend(j)\n",
    "    vector = list(map(int,vector)) # map 함수를 사용해서 모든 원소를 int로 바꾼다. \n",
    "    return vector\n",
    "\n",
    "# 2. 파일명을 인자로 받아서 Y값을 반환하는 함수를 정의하세요.\n",
    "\n",
    "file_name = train_txts[0]\n",
    "\n",
    "def Y(file_name):\n",
    "    return(file_name[0])\n",
    "    \n",
    "# 3. 데이터를 X_train, y_train, X_test, y_test로 나누세요.\n",
    "\n",
    "X_train = []\n",
    "Y_train = []\n",
    "for i in train_txts:\n",
    "    file = pd.read_csv(\"trainingDigits\\\\\"+i, header = None)\n",
    "    X_train.append(ftv(file))\n",
    "    Y_train.append(Y(i))\n",
    "\n",
    "X_test = []\n",
    "Y_test = []\n",
    "for i in test_txts:\n",
    "    file = pd.read_csv(\"testDigits\\\\\"+i, header = None)\n",
    "    X_test.append(ftv(file))\n",
    "    Y_test.append(Y(i))\n"
   ]
  },
  {
   "cell_type": "code",
   "execution_count": 3,
   "metadata": {},
   "outputs": [],
   "source": [
    "# 4. 1~10의 k에 대해 KNN을 시행하고 테스트셋에 대한 스코어를 그래프로 그리세요 (sklearn 이용)\n",
    "\n",
    "X_train = np.array(X_train)\n",
    "Y_train = np.array(Y_train)\n",
    "X_test = np.array(X_test)\n",
    "Y_test = np.array(Y_test)\n",
    "\n",
    "scores = []\n",
    "for i in range(1,11):\n",
    "    KNN = KNeighborsClassifier(n_neighbors = i)\n",
    "    KNN.fit(X_train,Y_train)\n",
    "    Y_predict = KNN.predict(X_test)\n",
    "    score = KNN.score(X_test,Y_test)\n",
    "    scores.append(score)"
   ]
  },
  {
   "cell_type": "code",
   "execution_count": 4,
   "metadata": {},
   "outputs": [
    {
     "data": {
      "text/html": [
       "<div>\n",
       "<style scoped>\n",
       "    .dataframe tbody tr th:only-of-type {\n",
       "        vertical-align: middle;\n",
       "    }\n",
       "\n",
       "    .dataframe tbody tr th {\n",
       "        vertical-align: top;\n",
       "    }\n",
       "\n",
       "    .dataframe thead th {\n",
       "        text-align: right;\n",
       "    }\n",
       "</style>\n",
       "<table border=\"1\" class=\"dataframe\">\n",
       "  <thead>\n",
       "    <tr style=\"text-align: right;\">\n",
       "      <th></th>\n",
       "      <th>score</th>\n",
       "      <th>Number of K</th>\n",
       "    </tr>\n",
       "  </thead>\n",
       "  <tbody>\n",
       "    <tr>\n",
       "      <th>0</th>\n",
       "      <td>0.986258</td>\n",
       "      <td>1</td>\n",
       "    </tr>\n",
       "    <tr>\n",
       "      <th>1</th>\n",
       "      <td>0.976744</td>\n",
       "      <td>2</td>\n",
       "    </tr>\n",
       "    <tr>\n",
       "      <th>2</th>\n",
       "      <td>0.987315</td>\n",
       "      <td>3</td>\n",
       "    </tr>\n",
       "    <tr>\n",
       "      <th>3</th>\n",
       "      <td>0.983087</td>\n",
       "      <td>4</td>\n",
       "    </tr>\n",
       "    <tr>\n",
       "      <th>4</th>\n",
       "      <td>0.980973</td>\n",
       "      <td>5</td>\n",
       "    </tr>\n",
       "    <tr>\n",
       "      <th>5</th>\n",
       "      <td>0.977801</td>\n",
       "      <td>6</td>\n",
       "    </tr>\n",
       "    <tr>\n",
       "      <th>6</th>\n",
       "      <td>0.976744</td>\n",
       "      <td>7</td>\n",
       "    </tr>\n",
       "    <tr>\n",
       "      <th>7</th>\n",
       "      <td>0.975687</td>\n",
       "      <td>8</td>\n",
       "    </tr>\n",
       "    <tr>\n",
       "      <th>8</th>\n",
       "      <td>0.973573</td>\n",
       "      <td>9</td>\n",
       "    </tr>\n",
       "    <tr>\n",
       "      <th>9</th>\n",
       "      <td>0.975687</td>\n",
       "      <td>10</td>\n",
       "    </tr>\n",
       "  </tbody>\n",
       "</table>\n",
       "</div>"
      ],
      "text/plain": [
       "      score  Number of K\n",
       "0  0.986258            1\n",
       "1  0.976744            2\n",
       "2  0.987315            3\n",
       "3  0.983087            4\n",
       "4  0.980973            5\n",
       "5  0.977801            6\n",
       "6  0.976744            7\n",
       "7  0.975687            8\n",
       "8  0.973573            9\n",
       "9  0.975687           10"
      ]
     },
     "execution_count": 4,
     "metadata": {},
     "output_type": "execute_result"
    }
   ],
   "source": [
    "scores = pd.DataFrame(scores)\n",
    "scores[\"Number of K\"] = range(1,11) # K 수를 담은 열을 추가한다. \n",
    "scores.rename(columns = {0 : \"score\"}, inplace = True) # 빈 컬럼명을 score로 바꾼다. \n",
    "scores"
   ]
  },
  {
   "cell_type": "code",
   "execution_count": 5,
   "metadata": {
    "scrolled": true
   },
   "outputs": [
    {
     "data": {
      "image/png": "[encoded data removed]",
      "text/plain": [
       "<Figure size 432x288 with 1 Axes>"
      ]
     },
     "metadata": {},
     "output_type": "display_data"
    }
   ],
   "source": [
    "plt.plot(scores[\"Number of K\"], scores[\"score\"],)\n",
    "plt.xlabel(\"Number of K\") # X축 설명\n",
    "plt.ylabel(\"score\") # Y축 설명.\n",
    "plt.grid(True) # 그리드 추가.\n",
    "plt.xticks(scores[\"Number of K\"]) # 모든 K를 그래프에 표시.\n",
    "plt.scatter(scores[\"Number of K\"][scores[\"score\"].idxmax()], # score가 최대인 점을 표시.\n",
    "            scores[\"score\"].max(), c = \"r\", marker= \"x\", s = 200) \n",
    "plt.show()"
   ]
  },
  {
   "cell_type": "code",
   "execution_count": 6,
   "metadata": {},
   "outputs": [
    {
     "name": "stdout",
     "output_type": "stream",
     "text": [
      "0.9873150105708245\n"
     ]
    }
   ],
   "source": [
    "# 5. 최적의 K로 testdata에 넣어 정확도 측정\n",
    "scores[\"Number of K\"][scores[\"score\"].idxmax()] # 최적 K = 3\n",
    "    \n",
    "KNN = KNeighborsClassifier(n_neighbors = 3)\n",
    "KNN.fit(X_train,Y_train)\n",
    "Y_predict = KNN.predict(X_test)\n",
    "score = KNN.score(X_test,Y_test)\n",
    "print(score)"
   ]
  }
 ],
 "metadata": {
  "kernelspec": {
   "display_name": "Python 3",
   "language": "python",
   "name": "python3"
  },
  "language_info": {
   "codemirror_mode": {
    "name": "ipython",
    "version": 3
   },
   "file_extension": ".py",
   "mimetype": "text/x-python",
   "name": "python",
   "nbconvert_exporter": "python",
   "pygments_lexer": "ipython3",
   "version": "3.6.5"
  }
 },
 "nbformat": 4,
 "nbformat_minor": 2
}
