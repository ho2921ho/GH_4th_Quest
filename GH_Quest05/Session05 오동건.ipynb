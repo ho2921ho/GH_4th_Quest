{
 "cells": [
  {
   "cell_type": "code",
   "execution_count": 1,
   "metadata": {},
   "outputs": [
    {
     "data": {
      "text/plain": [
       "<Figure size 640x480 with 1 Axes>"
      ]
     },
     "metadata": {},
     "output_type": "display_data"
    },
    {
     "name": "stdout",
     "output_type": "stream",
     "text": [
      "0.9873150105708245\n"
     ]
    }
   ],
   "source": [
    "import pandas as pd\n",
    "import numpy as np\n",
    "from os import listdir \n",
    "import matplotlib.pyplot as plt\n",
    "import sklearn\n",
    "from sklearn.neighbors import KNeighborsClassifier\n",
    "from sklearn.model_selection import train_test_split\n",
    "\n",
    "\n",
    "# 1. 파일명을 인자로 받아서 (1, 1024) 백터를 반환하는 함수를 정의하세요.\n",
    "train_txts = listdir('trainingDigits') # 폴더에서 파일이름들을 불러온다. \n",
    "test_txts = listdir('testDigits') # 폴더에서 파일이름들을 불러온다. \n",
    "\n",
    "file = pd.read_csv(\"trainingDigits\\\\\"+train_txts[0], header = None) # 파일을 불러온다. \n",
    "\n",
    "def ftv(file):\n",
    "    file = file.T # 인덱싱을 위해 transpoes 시킨다.  \n",
    "    vector = []\n",
    "    for i in file:\n",
    "        for j in file[i]:\n",
    "            vector.extend(j)\n",
    "    vector = list(map(int,vector)) # map 함수를 사용해서 모든 원소를 int로 바꾼다. \n",
    "    return vector\n",
    "\n",
    "# 2. 파일명을 인자로 받아서 Y값을 반환하는 함수를 정의하세요.\n",
    "\n",
    "file_name = train_txts[0]\n",
    "\n",
    "def Y(file_name):\n",
    "    return(file_name[0])\n",
    "    \n",
    "# 3. 데이터를 X_train, y_train, X_test, y_test로 나누세요.\n",
    "\n",
    "X_train = []\n",
    "Y_train = []\n",
    "for i in train_txts:\n",
    "    file = pd.read_csv(\"trainingDigits\\\\\"+i, header = None)\n",
    "    X_train.append(ftv(file))\n",
    "    Y_train.append(Y(i))\n",
    "\n",
    "X_test = []\n",
    "Y_test = []\n",
    "for i in test_txts:\n",
    "    file = pd.read_csv(\"testDigits\\\\\"+i, header = None)\n",
    "    X_test.append(ftv(file))\n",
    "    Y_test.append(Y(i))\n",
    "\n",
    "\n",
    "# 4. 1~10의 k에 대해 KNN을 시행하고 테스트셋에 대한 스코어를 그래프로 그리세요 (sklearn 이용)\n",
    "\n",
    "X_train = np.array(X_train)\n",
    "Y_train = np.array(Y_train)\n",
    "X_test = np.array(X_test)\n",
    "Y_test = np.array(Y_test)\n",
    "\n",
    "scores = []\n",
    "for i in range(1,11):\n",
    "    KNN = KNeighborsClassifier(n_neighbors = i)\n",
    "    KNN.fit(X_train,Y_train)\n",
    "    Y_predict = KNN.predict(X_test)\n",
    "    score = KNN.score(X_test,Y_test)\n",
    "    scores.append(score)\n",
    "\n",
    "scores = pd.DataFrame(scores)\n",
    "scores[\"Number of K\"] = range(1,11) # K 수를 담은 열을 추가한다. \n",
    "scores.rename(columns = {0 : \"score\"}, inplace = True) # 빈 컬럼명을 score로 바꾼다. \n",
    "scores\n",
    "\n",
    "plt.plot(scores[\"Number of K\"], scores[\"score\"],)\n",
    "plt.xlabel(\"Number of K\") # X축 설명\n",
    "plt.ylabel(\"score\") # Y축 설명.\n",
    "plt.grid(True) # 그리드 추가.\n",
    "plt.xticks(scores[\"Number of K\"]) # 모든 K를 그래프에 표시.\n",
    "plt.scatter(scores[\"Number of K\"][scores[\"score\"].idxmax()], # score가 최대인 점을 표시.\n",
    "            scores[\"score\"].max(), c = \"r\", marker= \"x\", s = 200) \n",
    "plt.show()\n",
    "\n",
    "# 5. 최적의 K로 testdata에 넣어 정확도 측정\n",
    "scores[\"Number of K\"][scores[\"score\"].idxmax()] # 최적 K = 3\n",
    "    \n",
    "KNN = KNeighborsClassifier(n_neighbors = 3)\n",
    "KNN.fit(X_train,Y_train)\n",
    "Y_predict = KNN.predict(X_test)\n",
    "score = KNN.score(X_test,Y_test)\n",
    "print(score)"
   ]
  }
 ],
 "metadata": {
  "kernelspec": {
   "display_name": "Python 3",
   "language": "python",
   "name": "python3"
  },
  "language_info": {
   "codemirror_mode": {
    "name": "ipython",
    "version": 3
   },
   "file_extension": ".py",
   "mimetype": "text/x-python",
   "name": "python",
   "nbconvert_exporter": "python",
   "pygments_lexer": "ipython3",
   "version": "3.6.5"
  }
 },
 "nbformat": 4,
 "nbformat_minor": 2
}
