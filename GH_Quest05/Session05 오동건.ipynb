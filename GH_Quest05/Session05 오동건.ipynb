{
 "cells": [
  {
   "cell_type": "code",
   "execution_count": 1,
   "metadata": {},
   "outputs": [],
   "source": [
    "import pandas as pd\n",
    "import numpy as np\n",
    "\n",
    "df = pd.read_csv(\"caschool.csv\")\n",
    "X1 = df[\"str\"] ; X2 = df[\"avginc\"] # 설명변수 \n",
    "Y = df[\"read_scr\"] # 반응변수\n",
    "m = len(df.index) # n의 개수"
   ]
  },
  {
   "cell_type": "code",
   "execution_count": 2,
   "metadata": {},
   "outputs": [],
   "source": [
    "# Hypothesis: Y = aX1 + bX2 + c  \n",
    "\n",
    "# Cost Funtion:\n",
    "def CF(P):\n",
    "    Yhat = P[0]*X1 + P[1]*X2 + P[2]\n",
    "    SSE = sum((Yhat - Y)**2)\n",
    "    return(1/(2*m)*SSE)"
   ]
  },
  {
   "cell_type": "code",
   "execution_count": 3,
   "metadata": {},
   "outputs": [
    {
     "data": {
      "text/plain": [
       "      fun: 101.94934662665536\n",
       " hess_inv: array([[ 2.45856568e-01,  1.25158442e-02, -5.01205627e+00],\n",
       "       [ 1.25158442e-02,  1.96935717e-02, -5.46534573e-01],\n",
       "       [-5.01205627e+00, -5.46534573e-01,  1.07630168e+02]])\n",
       "      jac: array([9.53674316e-06, 5.72204590e-06, 8.58306885e-06])\n",
       "  message: 'Optimization terminated successfully.'\n",
       "     nfev: 80\n",
       "      nit: 11\n",
       "     njev: 16\n",
       "   status: 0\n",
       "  success: True\n",
       "        x: array([ -0.95008855,   1.88410994, 644.77249136])"
      ]
     },
     "execution_count": 3,
     "metadata": {},
     "output_type": "execute_result"
    }
   ],
   "source": [
    "# Minimize using SciPy\n",
    "from scipy import optimize as op\n",
    "result = op.minimize(CF,(10,10,10))\n",
    "result"
   ]
  }
 ],
 "metadata": {
  "kernelspec": {
   "display_name": "Python 3",
   "language": "python",
   "name": "python3"
  },
  "language_info": {
   "codemirror_mode": {
    "name": "ipython",
    "version": 3
   },
   "file_extension": ".py",
   "mimetype": "text/x-python",
   "name": "python",
   "nbconvert_exporter": "python",
   "pygments_lexer": "ipython3",
   "version": "3.6.5"
  }
 },
 "nbformat": 4,
 "nbformat_minor": 2
}
