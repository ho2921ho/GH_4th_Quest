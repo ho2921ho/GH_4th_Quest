{
 "cells": [
  {
   "cell_type": "markdown",
   "metadata": {},
   "source": [
    "### GH_Quest_2_DongKeon"
   ]
  },
  {
   "cell_type": "code",
   "execution_count": 21,
   "metadata": {},
   "outputs": [
    {
     "name": "stdout",
     "output_type": "stream",
     "text": [
      "4\n"
     ]
    }
   ],
   "source": [
    "# 1. \n",
    "\n",
    "def Solution(n, money):\n",
    "    a = [0]*100\n",
    "    d = [0]*100001  \n",
    "    \n",
    "    for i in range(len(money)):\n",
    "        a[i] = money[i]\n",
    "        \n",
    "    d[0] = 1\n",
    "    for j in range(len(money)):\n",
    "        for k in range(a[j],n+1):\n",
    "            d[k] += d[k-a[j]]\n",
    "            \n",
    "    return d[k] % 1000000007\n",
    "\n",
    "\n",
    "print(Solution(5,[1,2,5]))"
   ]
  },
  {
   "cell_type": "code",
   "execution_count": 24,
   "metadata": {},
   "outputs": [
    {
     "name": "stdout",
     "output_type": "stream",
     "text": [
      "4\n",
      "3\n"
     ]
    }
   ],
   "source": [
    "#2\n",
    "\n",
    "def f4(i):\n",
    "    return(sum(map(lambda x:x[0],filter(lambda x:x[1] % 2 == 0, enumerate(i)))))\n",
    "\n",
    "print(f4([1,2,3,4]))\n",
    "print(f4([2,1,3,8,5]))"
   ]
  },
  {
   "cell_type": "code",
   "execution_count": 16,
   "metadata": {},
   "outputs": [],
   "source": [
    "#3\n",
    "\n",
    "import pandas as pd\n",
    "\n",
    "try:\n",
    "    dia =  pd.read_csv('C:\\\\Users\\\\renz\\\\Desktop\\\\diamonds_data.csv')\n",
    "except:\n",
    "    print(\"wrong file path\")\n",
    "\n",
    "\n",
    "dia = dia.T.iloc[:: -1].T\n",
    "\n",
    "dia.to_csv('C:\\\\Users\\\\renz\\\\Desktop\\\\diamonds_data_2.csv')"
   ]
  }
 ],
 "metadata": {
  "kernelspec": {
   "display_name": "Python 3",
   "language": "python",
   "name": "python3"
  },
  "language_info": {
   "codemirror_mode": {
    "name": "ipython",
    "version": 3
   },
   "file_extension": ".py",
   "mimetype": "text/x-python",
   "name": "python",
   "nbconvert_exporter": "python",
   "pygments_lexer": "ipython3",
   "version": "3.6.5"
  }
 },
 "nbformat": 4,
 "nbformat_minor": 2
}
