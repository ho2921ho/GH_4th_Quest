{
 "cells": [
  {
   "cell_type": "code",
   "execution_count": 1,
   "metadata": {},
   "outputs": [],
   "source": [
    "### 1. numpy, pandas를 활용하여, ‘sex ratio.csv’로부터 아래와 같은 형태를 가진 ‘new sex ratio.csv’를 반환하는 코드를 구현해주세요.\n",
    "\n",
    "#### 모듈 불러오기\n",
    "import pandas as pd\n",
    "import numpy as np\n",
    "\n",
    "#### 데이터 불러오기\n",
    "df = pd.read_csv(\"sex ratio.csv\")"
   ]
  },
  {
   "cell_type": "code",
   "execution_count": 2,
   "metadata": {},
   "outputs": [],
   "source": [
    "#### 비어있는 컬럼명을 \"지역\"으로 바꾼다. \n",
    "df.rename(columns = {\"Unnamed: 0\"  : \"지역\"}, inplace = True)"
   ]
  },
  {
   "cell_type": "code",
   "execution_count": 3,
   "metadata": {},
   "outputs": [],
   "source": [
    "####  melt로 wide 행태의 자료형을 long 형태로 바꾼다.  \n",
    "#### 지역이 기준이 되기 때문에 id_vars 전달인자에 \"지역\"을 넣는다.\n",
    "#### 변화된 자료에 \"연도\"와 \"성비\"라는 열 이름을 할당한다. \n",
    "df2 = pd.melt(df,id_vars = [\"지역\"], var_name =\"연도\", value_name = \"성비\" )"
   ]
  },
  {
   "cell_type": "code",
   "execution_count": 4,
   "metadata": {},
   "outputs": [],
   "source": [
    "#### 데이터를 지역과 연도를 기준으로 다시 정렬한다. \n",
    "df2 = df2.sort_values([\"지역\",\"연도\"])"
   ]
  },
  {
   "cell_type": "code",
   "execution_count": 5,
   "metadata": {},
   "outputs": [],
   "source": [
    "#### 기존의 인덱스는 필요없기 때문에 새로운 인덱스로 갱신한다. \n",
    "df2 = df2.reset_index(drop = True)"
   ]
  },
  {
   "cell_type": "code",
   "execution_count": 6,
   "metadata": {},
   "outputs": [
    {
     "data": {
      "text/html": [
       "<div>\n",
       "<style scoped>\n",
       "    .dataframe tbody tr th:only-of-type {\n",
       "        vertical-align: middle;\n",
       "    }\n",
       "\n",
       "    .dataframe tbody tr th {\n",
       "        vertical-align: top;\n",
       "    }\n",
       "\n",
       "    .dataframe thead th {\n",
       "        text-align: right;\n",
       "    }\n",
       "</style>\n",
       "<table border=\"1\" class=\"dataframe\">\n",
       "  <thead>\n",
       "    <tr style=\"text-align: right;\">\n",
       "      <th></th>\n",
       "      <th>지역</th>\n",
       "      <th>연도</th>\n",
       "      <th>성비</th>\n",
       "    </tr>\n",
       "  </thead>\n",
       "  <tbody>\n",
       "    <tr>\n",
       "      <th>0</th>\n",
       "      <td>11</td>\n",
       "      <td>2006</td>\n",
       "      <td>102</td>\n",
       "    </tr>\n",
       "    <tr>\n",
       "      <th>1</th>\n",
       "      <td>11</td>\n",
       "      <td>2007</td>\n",
       "      <td>102</td>\n",
       "    </tr>\n",
       "    <tr>\n",
       "      <th>2</th>\n",
       "      <td>11</td>\n",
       "      <td>2008</td>\n",
       "      <td>102</td>\n",
       "    </tr>\n",
       "    <tr>\n",
       "      <th>3</th>\n",
       "      <td>11</td>\n",
       "      <td>2009</td>\n",
       "      <td>102</td>\n",
       "    </tr>\n",
       "    <tr>\n",
       "      <th>4</th>\n",
       "      <td>11</td>\n",
       "      <td>2010</td>\n",
       "      <td>101</td>\n",
       "    </tr>\n",
       "  </tbody>\n",
       "</table>\n",
       "</div>"
      ],
      "text/plain": [
       "   지역    연도   성비\n",
       "0  11  2006  102\n",
       "1  11  2007  102\n",
       "2  11  2008  102\n",
       "3  11  2009  102\n",
       "4  11  2010  101"
      ]
     },
     "execution_count": 6,
     "metadata": {},
     "output_type": "execute_result"
    }
   ],
   "source": [
    "#### 새로운 자료형태를 확인한다. \n",
    "df2.head()"
   ]
  },
  {
   "cell_type": "code",
   "execution_count": 7,
   "metadata": {},
   "outputs": [],
   "source": [
    "#### 변경된 자료로 새로운 csv 파일을 만든다. \n",
    "df2.to_csv(\"new sex ratio.csv\", encoding= \"EUC - KR\")"
   ]
  },
  {
   "cell_type": "code",
   "execution_count": 13,
   "metadata": {},
   "outputs": [],
   "source": [
    "### 2. province data.csv’로부터 지역별로 전 기간에 걸친 평균 gdp와 unemploymen를 구한 뒤, 이를 산포도로 표현하세요.\n",
    "### 단, 평균 성비가 110 이상인 지역의 산포도는 파란색 X 모양의 점, 110 미만인 지역의 산포도는 빨간색 세모 모양의 점으로 표현하세요.\n",
    "\n",
    "#### 모듈 및 자료 불러오기\n",
    "from matplotlib import pyplot as plt\n",
    "pro = pd.read_csv(\"province data.csv\")\n",
    "pro.head()"
   ]
  },
  {
   "cell_type": "code",
   "execution_count": 27,
   "metadata": {},
   "outputs": [],
   "source": [
    "#### 지역을 기준으로 값을 평균낸다. \n",
    "pro2 = pro.groupby([\"id\"]).mean()"
   ]
  },
  {
   "cell_type": "code",
   "execution_count": 70,
   "metadata": {},
   "outputs": [],
   "source": [
    "#### 평균 성비가 110이상인 지역과 미만인 지역을 나눈다. \n",
    "high = pro2.loc[pro2[\"sexratio\"] >= 110, :]\n",
    "low = pro2.loc[pro2[\"sexratio\"] < 110, :]"
   ]
  },
  {
   "cell_type": "code",
   "execution_count": 76,
   "metadata": {
    "scrolled": true
   },
   "outputs": [
    {
     "data": {
      "image/png": "[encoded data removed]",
      "text/plain": [
       "<Figure size 432x288 with 1 Axes>"
      ]
     },
     "metadata": {},
     "output_type": "display_data"
    }
   ],
   "source": [
    "#### 각각의 점들을 문제의 조건에 맞춰 그린다. \n",
    "plt.scatter(high['gdp'], high['unemployment'], c = \"b\", marker= \"x\") \n",
    "plt.scatter(low['gdp'], low['unemployment'], c = \"r\", marker= \"^\") \n",
    "plt.xlabel(\"GDP\")\n",
    "plt.ylabel(\"UNEMPLOYMENT\")\n",
    "plt.show()"
   ]
  }
 ],
 "metadata": {
  "kernelspec": {
   "display_name": "Python 3",
   "language": "python",
   "name": "python3"
  },
  "language_info": {
   "codemirror_mode": {
    "name": "ipython",
    "version": 3
   },
   "file_extension": ".py",
   "mimetype": "text/x-python",
   "name": "python",
   "nbconvert_exporter": "python",
   "pygments_lexer": "ipython3",
   "version": "3.6.5"
  }
 },
 "nbformat": 4,
 "nbformat_minor": 2
}
