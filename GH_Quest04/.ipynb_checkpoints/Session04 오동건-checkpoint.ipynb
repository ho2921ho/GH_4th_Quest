{
 "cells": [
  {
   "cell_type": "code",
   "execution_count": 69,
   "metadata": {},
   "outputs": [],
   "source": [
    "# "
   ]
  },
  {
   "cell_type": "code",
   "execution_count": 70,
   "metadata": {},
   "outputs": [],
   "source": [
    "from urllib.request import urlopen\n",
    "from bs4 import BeautifulSoup\n",
    "import re"
   ]
  },
  {
   "cell_type": "code",
   "execution_count": 71,
   "metadata": {},
   "outputs": [],
   "source": [
    "url = \"https://news.naver.com/main/list.nhn?mode=LS2D&mid=shm&sid1=100&sid2=269\""
   ]
  },
  {
   "cell_type": "code",
   "execution_count": 72,
   "metadata": {},
   "outputs": [],
   "source": [
    "html = urlopen(url)\n",
    "soup = BeautifulSoup(html,\"lxml\",from_encoding = \"utf-8\")"
   ]
  },
  {
   "cell_type": "code",
   "execution_count": 73,
   "metadata": {},
   "outputs": [],
   "source": [
    "articles = soup.findAll(\"dt\")\n",
    "ex_dl = articles[1].a[\"href\"] # .a 메서드를 사용해서 a태그 안의 href 속성을 볼러온다. "
   ]
  },
  {
   "cell_type": "code",
   "execution_count": 74,
   "metadata": {},
   "outputs": [],
   "source": [
    "url_list = []\n",
    "\n",
    "for link in articles:\n",
    "    url_list.append(link.find(\"a\")[\"href\"])\n",
    "\n",
    "url_list = list(set(url_list))"
   ]
  },
  {
   "cell_type": "code",
   "execution_count": 75,
   "metadata": {},
   "outputs": [
    {
     "data": {
      "text/plain": [
       "'https://news.naver.com/main/read.nhn?mode=LS2D&mid=shm&sid1=100&sid2=269&oid=003&aid=0008832790'"
      ]
     },
     "execution_count": 75,
     "metadata": {},
     "output_type": "execute_result"
    }
   ],
   "source": [
    "url_list[0]"
   ]
  },
  {
   "cell_type": "code",
   "execution_count": 99,
   "metadata": {},
   "outputs": [],
   "source": [
    "url_list[0]\n",
    "html = urlopen(url_list[0])\n",
    "soup = BeautifulSoup(html,\"html.parser\", from_encoding = \"utf-8\")\n",
    "content = soup.find(id = 'articleBodyContents')# id로 content를 포함하는 고유한 값을 불러온다."
   ]
  },
  {
   "cell_type": "code",
   "execution_count": 101,
   "metadata": {},
   "outputs": [
    {
     "data": {
      "text/plain": [
       "<div id=\"articleBodyContents\">\n",
       "<!-- 본문 내용 -->\n",
       "<!-- TV플레이어 -->\n",
       "<!-- // TV플레이어 -->\n",
       "<script type=\"text/javascript\">\n",
       "// flash 오류를 우회하기 위한 함수 추가\n",
       "function _flash_removeCallback() {}\n",
       "</script>\n",
       "<span class=\"end_photo_org\"><img src=\"https://imgnews.pstatic.net/image/003/2018/10/01/NISI20181001_0014514095_web_20181001202937_20181001203118019.jpg?type=w647\"/></span><br/><br/>【서울=뉴시스】전신 기자 = 문재인 대통령이 1일 서울 용산 전쟁기념관 평화의 광장에서 열린 제70주년 국군의 날 기념식에서 거수경례하고 있다. 2018.10.01.<br/><br/>photo1006@newsis.com<br/><br/><strong>[사진 영상 제보받습니다]</strong> 공감언론 뉴시스가 독자 여러분의 소중한 제보를 기다립니다. 뉴스 가치나 화제성이 있다고 판단되는 사진 또는 영상을 뉴시스 사진영상부(n-photo@newsis.com, 02-721-7470)로 보내주시면 적극 반영하겠습니다.<br/><br/>&lt;저작권자ⓒ 공감언론 뉴시스통신사. 무단전재-재배포 금지.&gt;<br/>\n",
       "<!-- // 본문 내용 -->\n",
       "</div>"
      ]
     },
     "execution_count": 101,
     "metadata": {},
     "output_type": "execute_result"
    }
   ],
   "source": [
    "content"
   ]
  },
  {
   "cell_type": "code",
   "execution_count": 128,
   "metadata": {},
   "outputs": [
    {
     "data": {
      "text/plain": [
       "'<br/><br/>【서울=뉴시스】전신 기자 = 문재인 대통령이 1일 서울 용산 전쟁기념관 평화의 광장에서 열린 제70주년 국군의 날 기념식에서 거수경례하고 있다. 2018.10.01.<br/><br/>photo1006@newsis.com<br/><br/><strong>[사진 영상 제보받습니다]</strong> 공감언론 뉴시스가 독자 여러분의 소중한 제보를 기다립니다. 뉴스 가치나 화제성이 있다고 판단되는 사진 또는 영상을 뉴시스 사진영상부(n-photo@newsis.com, 02-721-7470)로 보내주시면 적극 반영하겠습니다.<br/><br/>'"
      ]
     },
     "execution_count": 128,
     "metadata": {},
     "output_type": "execute_result"
    }
   ],
   "source": [
    "test = str(content)\n",
    "p = re.compile(\"<br/><br/>.+<br/><br/>\")\n",
    "test = p.search(test).group()"
   ]
  },
  {
   "cell_type": "code",
   "execution_count": null,
   "metadata": {},
   "outputs": [],
   "source": [
    "    html = urlopen(url)\n",
    "    soup = BeautifulSoup(html,\"html.parser\", from_encoding = \"utf-8\")\n",
    "    content = soup.find(id = 'articleBodyContents')# id로 content를 포함하는 고유한 값을 불러온다.\n",
    "    content = str(content) # html 을 string으로 바꾼다. \n",
    "    p = re.compile(\"<br/>.*[.]<br/><br/>\") # 본문 내용만 뽑기 위해 정규표현식을 만든다.\n",
    "    content = p.findall(content) # 정규표현식에 해당하는 부분을 가져온다.\n",
    "    content = re.sub(\"<br/>\",\"\",content) # <br/>부분을 지운다. \n",
    "    title = soup.find(\"h3\",{\"id\":\"articleTitle\"}).get_text() # 기사 제목을 텍스트로 가져온다.\n",
    "    return [title, content]"
   ]
  },
  {
   "cell_type": "code",
   "execution_count": 126,
   "metadata": {},
   "outputs": [],
   "source": [
    "hangul = re.compile(\"[^ ㄱ-ㅎ|가-힣.\"\"]+\")\n",
    "\n",
    "test = str(content.find)\n",
    "\n",
    "result = hangul.sub(\"\",test)\n",
    "result = re.sub(\"본문 내용  플레이어   플레이어    오류를 우회하기 위한 함수 추가\",\"\",result)"
   ]
  },
  {
   "cell_type": "code",
   "execution_count": 127,
   "metadata": {},
   "outputs": [
    {
     "data": {
      "text/plain": [
       "'  .        ...서울뉴시스전신 기자  문재인 대통령이 일 서울 용산 전쟁기념관 평화의 광장에서 열린 제주년 국군의 날 기념식에서 거수경례하고 있다. ....사진 영상 제보받습니다 공감언론 뉴시스가 독자 여러분의 소중한 제보를 기다립니다. 뉴스 가치나 화제성이 있다고 판단되는 사진 또는 영상을 뉴시스 사진영상부. 로 보내주시면 적극 반영하겠습니다.저작권자 공감언론 뉴시스통신사. 무단전재재배포 금지.  본문 내용 '"
      ]
     },
     "execution_count": 127,
     "metadata": {},
     "output_type": "execute_result"
    }
   ],
   "source": [
    "result"
   ]
  },
  {
   "cell_type": "code",
   "execution_count": null,
   "metadata": {},
   "outputs": [],
   "source": [
    "page_url = \"https://news.naver.com/main/list.nhn?mode=LS2D&sid2=269&sid1=100&mid=shm&date=20181001&page=\"\n",
    "\n",
    "for i in range(1,6):\n",
    "    page_url = url+str(i)\n",
    "    page_html = urlopen(page_url)\n",
    "    page_soup = BeautifulSoup(page_html,\"lxml\",from_encoding = \"utf-8\")\n",
    "    articles = page_soup.findAll(\"dt\")   \n"
   ]
  },
  {
   "cell_type": "code",
   "execution_count": null,
   "metadata": {},
   "outputs": [],
   "source": [
    "url_list"
   ]
  },
  {
   "cell_type": "code",
   "execution_count": null,
   "metadata": {},
   "outputs": [],
   "source": [
    "# 뉴스 기사 페이지에서 제목과 내용을 가져오는 함수를 정의한다. \n",
    "def NewsCraw(url):\n",
    "    html = urlopen(url)\n",
    "    soup = BeautifulSoup(html,\"html.parser\", from_encoding = \"utf-8\")\n",
    "    content = soup.find(id = 'articleBodyContents')# id로 content를 포함하는 고유한 값을 불러온다.\n",
    "    content = str(content) # html 을 string으로 바꾼다. \n",
    "    p = re.compile(\"<br/>.*[.]<br/><br/>\") # 본문 내용만 뽑기 위해 정규표현식을 만든다.\n",
    "    content = p.findall(content) # 정규표현식에 해당하는 부분을 가져온다.\n",
    "    content = re.sub(\"<br/>\",\"\",content) # <br/>부분을 지운다. \n",
    "    title = soup.find(\"h3\",{\"id\":\"articleTitle\"}).get_text() # 기사 제목을 텍스트로 가져온다.\n",
    "    return [title, content]\n"
   ]
  }
 ],
 "metadata": {
  "kernelspec": {
   "display_name": "Python 3",
   "language": "python",
   "name": "python3"
  },
  "language_info": {
   "codemirror_mode": {
    "name": "ipython",
    "version": 3
   },
   "file_extension": ".py",
   "mimetype": "text/x-python",
   "name": "python",
   "nbconvert_exporter": "python",
   "pygments_lexer": "ipython3",
   "version": "3.6.5"
  }
 },
 "nbformat": 4,
 "nbformat_minor": 2
}
