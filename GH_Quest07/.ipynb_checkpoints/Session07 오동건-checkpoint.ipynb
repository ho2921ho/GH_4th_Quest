{
 "cells": [
  {
   "cell_type": "code",
   "execution_count": 6,
   "metadata": {},
   "outputs": [],
   "source": [
    "import pandas as pd\n",
    "import numpy as np\n",
    "from collections import defaultdict, Counter\n",
    "import surprise\n",
    "\n",
    "data = surprise.Dataset.load_builtin('ml-100k')\n",
    "\n",
    "df = pd.DataFrame(data.raw_ratings, columns = ['userId', 'item', 'rate', 'id'])\n",
    "df.head()\n",
    "\n",
    "cnt = Counter(df['userId']) # 각 userId가 몇 번 등장했는지 count한 뒤에\n",
    "idx_sorted = sorted(list(cnt.keys()), key=lambda x: -cnt[x]) # 빈도가 높은 순서대로 userId를 정렬\n",
    "\n",
    "idx = np.zeros(len(df)) # df의 전체 row 길이에 해당하는 vector를 만든 뒤에\n",
    "for i in idx_sorted[:400]:\n",
    "    idx += (df['userId'] == i)\n",
    "    print(idx)\n",
    "    # 빈도 400등까지의 userId에 해당하는 row에 1씩을 더해준 뒤,\n",
    "idx = np.array(idx, dtype=bool) # Boolean 타입으로 바꾸어 줌. -> Bool Indexing을 위한 밑작업\n",
    "\n",
    "new_df = df[idx].iloc[:,:3] # 위의 자료를 이용해 인덱싱을 한 뒤 새로운 df를 만드는데, 마지막 열(timestamp)은 날림\n",
    "del df # 기존 df는 지워줌. 메모리 절약을 위해 ~^*^~\n",
    "\n",
    "new_df\n",
    "\n",
    "from sklearn.model_selection import train_test_split\n",
    "train, test = train_test_split(new_df, test_size=0.3, random_state=42) # 3:7 비율로 test-train split\n",
    "del new_df; del idx # 메모리 절약...!\n",
    "\n",
    "utility_matrix = train.pivot(index='userId', columns='item', values='rate').fillna(0) \n",
    "\n",
    "def cos_sim(x, y): # cosine 유사도를 return하는 함수를 define\n",
    "    return np.dot(x, y) ** 2 / (np.dot(x, x) * np.dot(y, y))\n",
    "\n",
    "def find_neighbors(utility_matrix, k, sim_fun): # 주어진 유사도를 기준으로 k개의 neighbor를 구해보자!\n",
    "    sim_dict = {} # 각 user들의 이웃들을 내포한 딕셔너리로 만들 것임!\n",
    "    cnt = 0 # 밑에서 반복문 몇 번 돌았는지 확인하려고...\n",
    "    for i in utility_matrix.index: # utility_matrix의 index들 = userId들\n",
    "        cnt += 1 # 반복 1회당 카운트 한 번씩 올려주고\n",
    "        ranking = [(0,0)] * k\n",
    "        for j in utility_matrix.index.drop(i): # i를 제외한 나머지 userId에 대해 반복\n",
    "            ranking.append((j, sim_fun(utility_matrix.loc[i], utility_matrix.loc[j]))) # (j, simmilarity between i & j) append\n",
    "            ranking = sorted(ranking, key=lambda x: -x[1])[:k] # 각 튜플의 뒤의 원소를 기준으로 내림차순한 뒤(유클리디언은 오름차순 해야됨), k개까지만 cut\n",
    "        sim_dict[i] = ranking # 위에서 만든 리스트를 sim_dict의 key = i에 대해 append함\n",
    "        if not cnt%10: print(cnt) # 10단위로 카운트 수를 출력... 얼마나 진행되고 있는지 시각적으로 확인코자 하는 수단\n",
    "    return sim_dict\n",
    "\n",
    "neighbors = find_neighbors(utility_matrix, 10, cos_sim)\n",
    "\n",
    "def prediction(user, movie, neighbors, utility_matrix): # 이제 neighbor들의 평균을 냄으로써 평점을 예측해봅시다\n",
    "    my_neighbors = neighbors[user] # 지정된 user의 이웃들을 꺼낸 뒤\n",
    "    rates = []\n",
    "    for i, _ in my_neighbors:\n",
    "        r = utility_matrix.loc[i, movie] # 이웃의 해당 영화에 대한 평점을 꺼내옵니다\n",
    "        if r > 0: rates.append(r) # 정보가 있을 경우에 리스트에 append\n",
    "    if rates == []: return None # 만약 리스트가 비어있다면, None을 반환 (왜냐면, 이웃 중에 그 영화를 본 사람이 없는 것이므로)\n",
    "    else: return sum(rates)/len(rates) # 아니라면 평균을 return합시다\n",
    "\n",
    "def testing(test, neighbors, utility_matrix): # test data에 대해 test하는 함수\n",
    "    predicted = []\n",
    "    movies = utility_matrix.columns # train data에 있는 영화 목록\n",
    "    for i in range(len(test)): # test set에 대해 반복을 돌립니다\n",
    "        movie = test.iloc[i,0]; user = test.iloc[i,1] # 각 row의 movie, user Id를 따옴\n",
    "        if (user not in neighbors) or (movie not in movies): # 만약 해당 user의 neighbor data가 없거나, movie가 train movie 목록에 없다면\n",
    "            predicted.append(None) # 그 데이터에 관해서는 test를 할 수 없음\n",
    "        else: predicted.append(prediction(user, movie, neighbors, utility_matrix)) # 아니라면 예측을 합니다\n",
    "    return predicted"
   ]
  },
  {
   "cell_type": "code",
   "execution_count": null,
   "metadata": {},
   "outputs": [],
   "source": [
    "###CV"
   ]
  },
  {
   "cell_type": "code",
   "execution_count": null,
   "metadata": {},
   "outputs": [],
   "source": [
    "# SELECT *, quantity*price AS stock_price FROM quest1 WHERE price > 10000 OR quantity*price > 200000;\n",
    "# SELECT name,YEAR(CURRENT_TIMESTAMP())-YEAR(birthday)+1 AS age, birthday, CASE WHEN YEAR(birthday) < 2000 THEN 'yes' ELSE 'no' END AS \"adult\" FROM quest2;"
   ]
  }
 ],
 "metadata": {
  "kernelspec": {
   "display_name": "Python 3",
   "language": "python",
   "name": "python3"
  },
  "language_info": {
   "codemirror_mode": {
    "name": "ipython",
    "version": 3
   },
   "file_extension": ".py",
   "mimetype": "text/x-python",
   "name": "python",
   "nbconvert_exporter": "python",
   "pygments_lexer": "ipython3",
   "version": "3.6.5"
  }
 },
 "nbformat": 4,
 "nbformat_minor": 2
}
